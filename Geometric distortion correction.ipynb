{
 "cells": [
  {
   "cell_type": "code",
   "execution_count": 18,
   "id": "0ecf1ee7",
   "metadata": {},
   "outputs": [],
   "source": [
    "import cv2 as cv\n",
    "import numpy as np\n",
    "\n",
    "video = cv.VideoCapture( 'Camera_Calibration.mp4' )\n",
    "\n",
    "if video.isOpened() == False:\n",
    "    exit()\n",
    "    \n",
    "fps = 50\n",
    "wait_msec = int( 1000 / fps )\n",
    "width = int(video.get(3)/2)\n",
    "height = int(video.get(4)/2)\n",
    "\n",
    "\n",
    "K = np.array([[1803.2, 0, 899.3],\n",
    "            [0, 1820, 529.5],\n",
    "            [0, 0, 1]])\n",
    "\n",
    "# Derived from `calibrate_camera.py`\n",
    "dist_coeff = np.array([3.53160047e-02, 2.54676133e-01, -3.41917800e-04, 6.63498638e-03, -8.92129248e-01])\n",
    "\n",
    "# Run distortion correction\n",
    "show_rectify = True\n",
    "map1, map2 = None, None\n",
    "\n",
    "while True:\n",
    "    # Read an image from the video\n",
    "    valid, img = video.read()\n",
    "    key = cv.waitKey(wait_msec)\n",
    "        \n",
    "    if key == 27:\n",
    "        break\n",
    "        \n",
    "    if not valid:\n",
    "        break\n",
    "    \n",
    "    # Rectify geometric distortion (Alternative: `cv.undistort()`)\n",
    "    info = \"Original\"\n",
    "    \n",
    "    if show_rectify:\n",
    "        if map1 is None or map2 is None:\n",
    "            map1, map2 = cv.initUndistortRectifyMap(K, dist_coeff, None, None, (img.shape[1], img.shape[0]), cv.CV_32FC1)\n",
    "                                                    \n",
    "        img = cv.remap(img, map1, map2, interpolation=cv.INTER_LINEAR)\n",
    "        info = \"Rectified\"\n",
    "                                                    \n",
    "    cv.putText(img, info, (10, 250), cv.FONT_HERSHEY_DUPLEX, 2.0, (0, 255, 0))\n",
    "    cv.imshow('Video Player', cv.resize(img, (width, height))   )\n",
    "\n",
    "video.release()\n",
    "cv.destroyAllWindows()"
   ]
  },
  {
   "cell_type": "code",
   "execution_count": null,
   "id": "15af8df7",
   "metadata": {},
   "outputs": [],
   "source": []
  }
 ],
 "metadata": {
  "kernelspec": {
   "display_name": "Python 3 (ipykernel)",
   "language": "python",
   "name": "python3"
  },
  "language_info": {
   "codemirror_mode": {
    "name": "ipython",
    "version": 3
   },
   "file_extension": ".py",
   "mimetype": "text/x-python",
   "name": "python",
   "nbconvert_exporter": "python",
   "pygments_lexer": "ipython3",
   "version": "3.11.5"
  }
 },
 "nbformat": 4,
 "nbformat_minor": 5
}
